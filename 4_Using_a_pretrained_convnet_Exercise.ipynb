{
  "nbformat": 4,
  "nbformat_minor": 0,
  "metadata": {
    "kernelspec": {
      "name": "python3",
      "display_name": "Python 3"
    },
    "colab": {
      "name": "4 - Using-a-pretrained-convnet Exercise.ipynb",
      "provenance": []
    },
    "accelerator": "GPU"
  },
  "cells": [
    {
      "cell_type": "code",
      "metadata": {
        "id": "_6tpqF2kUv2X",
        "outputId": "2050e5cf-77cf-4a5d-efcd-f1f2be5690d4",
        "colab": {
          "base_uri": "https://localhost:8080/",
          "height": 35
        }
      },
      "source": [
        "import keras\n",
        "keras.__version__"
      ],
      "execution_count": 2,
      "outputs": [
        {
          "output_type": "execute_result",
          "data": {
            "application/vnd.google.colaboratory.intrinsic+json": {
              "type": "string"
            },
            "text/plain": [
              "'2.4.3'"
            ]
          },
          "metadata": {
            "tags": []
          },
          "execution_count": 2
        }
      ]
    },
    {
      "cell_type": "code",
      "metadata": {
        "id": "nhEbSFp6VXpe",
        "outputId": "def57fdb-7085-47dc-cc16-ae73ca660f57",
        "colab": {
          "base_uri": "https://localhost:8080/"
        }
      },
      "source": [
        "from google.colab import drive\n",
        "drive.mount('/content/drive')"
      ],
      "execution_count": 1,
      "outputs": [
        {
          "output_type": "stream",
          "text": [
            "Mounted at /content/drive\n"
          ],
          "name": "stdout"
        }
      ]
    },
    {
      "cell_type": "markdown",
      "metadata": {
        "id": "P4m3Kwd1Uv2b"
      },
      "source": [
        "# Using a pre-trained convnet\n",
        "\n",
        "\n",
        "A common and highly effective approach to deep learning on small image datasets is to leverage a pre-trained network. A pre-trained network \n",
        "is simply a saved network previously trained on a large dataset, typically on a large-scale image classification task. If this original \n",
        "dataset is large enough and general enough, then the spatial feature hierarchy learned by the pre-trained network can effectively act as a \n",
        "generic model of our visual world, and hence its features can prove useful for many different computer vision problems, even though these \n",
        "new problems might involve completely different classes from those of the original task. For instance, one might train a network on \n",
        "ImageNet (where classes are mostly animals and everyday objects) and then re-purpose this trained network for something as remote as \n",
        "identifying furniture items in images. Such portability of learned features across different problems is a key advantage of deep learning \n",
        "compared to many older shallow learning approaches, and it makes deep learning very effective for small-data problems.\n",
        "\n",
        "In our case, we will consider a large convnet trained on the ImageNet dataset (1.4 million labeled images and 1000 different classes). \n",
        "ImageNet contains many animal classes, including different species of cats and dogs, and we can thus expect to perform very well on our cat \n",
        "vs. dog classification problem.\n",
        "\n",
        "We will use the VGG16 architecture, developed by Karen Simonyan and Andrew Zisserman in 2014, a simple and widely used convnet architecture \n",
        "for ImageNet. Although it is a bit of an older model, far from the current state of the art and somewhat heavier than many other recent \n",
        "models, we chose it because its architecture is similar to what you are already familiar with, and easy to understand without introducing \n",
        "any new concepts. This may be your first encounter with one of these cutesie model names -- VGG, ResNet, Inception, Inception-ResNet, \n",
        "Xception... you will get used to them, as they will come up frequently if you keep doing deep learning for computer vision.\n",
        "\n",
        "There are two ways to leverage a pre-trained network: *feature extraction* and *fine-tuning*. We will cover both of them. Let's start with \n",
        "feature extraction."
      ]
    },
    {
      "cell_type": "markdown",
      "metadata": {
        "id": "m7GUVuJOUv2b"
      },
      "source": [
        "## Feature extraction\n",
        "\n",
        "Feature extraction consists of using the representations learned by a previous network to extract interesting features from new samples. \n",
        "These features are then run through a new classifier, which is trained from scratch.\n",
        "\n",
        "As we saw previously, convnets used for image classification comprise two parts: they start with a series of pooling and convolution \n",
        "layers, and they end with a densely-connected classifier. The first part is called the \"convolutional base\" of the model. In the case of \n",
        "convnets, \"feature extraction\" will simply consist of taking the convolutional base of a previously-trained network, running the new data \n",
        "through it, and training a new classifier on top of the output.\n",
        "\n",
        "![swapping FC classifiers](https://s3.amazonaws.com/book.keras.io/img/ch5/swapping_fc_classifier.png)\n",
        "\n",
        "Why only reuse the convolutional base? Could we reuse the densely-connected classifier as well? In general, it should be avoided. The \n",
        "reason is simply that the representations learned by the convolutional base are likely to be more generic and therefore more reusable: the \n",
        "feature maps of a convnet are presence maps of generic concepts over a picture, which is likely to be useful regardless of the computer \n",
        "vision problem at hand. On the other end, the representations learned by the classifier will necessarily be very specific to the set of \n",
        "classes that the model was trained on -- they will only contain information about the presence probability of this or that class in the \n",
        "entire picture. Additionally, representations found in densely-connected layers no longer contain any information about _where_ objects are \n",
        "located in the input image: these layers get rid of the notion of space, whereas the object location is still described by convolutional \n",
        "feature maps. For problems where object location matters, densely-connected features would be largely useless.\n",
        "\n",
        "Note that the level of generality (and therefore reusability) of the representations extracted by specific convolution layers depends on \n",
        "the depth of the layer in the model. Layers that come earlier in the model extract local, highly generic feature maps (such as visual \n",
        "edges, colors, and textures), while layers higher-up extract more abstract concepts (such as \"cat ear\" or \"dog eye\"). So if your new \n",
        "dataset differs a lot from the dataset that the original model was trained on, you may be better off using only the first few layers of the \n",
        "model to do feature extraction, rather than using the entire convolutional base.\n",
        "\n",
        "In our case, since the ImageNet class set did contain multiple dog and cat classes, it is likely that it would be beneficial to reuse the \n",
        "information contained in the densely-connected layers of the original model. However, we will chose not to, in order to cover the more \n",
        "general case where the class set of the new problem does not overlap with the class set of the original model."
      ]
    },
    {
      "cell_type": "markdown",
      "metadata": {
        "id": "RYmGuHNhUv2c"
      },
      "source": [
        "Let's put this in practice by using the convolutional base of the VGG16 network, trained on ImageNet, to extract interesting features from \n",
        "our cat and dog images, and then training a cat vs. dog classifier on top of these features.\n",
        "\n",
        "The VGG16 model, among others, comes pre-packaged with Keras. You can import it from the `keras.applications` module. Here's the list of \n",
        "image classification models (all pre-trained on the ImageNet dataset) that are available as part of `keras.applications`:\n",
        "\n",
        "* Xception\n",
        "* InceptionV3\n",
        "* ResNet50\n",
        "* VGG16\n",
        "* VGG19\n",
        "* MobileNet\n",
        "\n",
        "Let's instantiate the VGG16 model:"
      ]
    },
    {
      "cell_type": "code",
      "metadata": {
        "id": "4b3HDaIxUv2c",
        "outputId": "63150c8a-51b9-4ad0-87a0-e8219fa4e75e",
        "colab": {
          "base_uri": "https://localhost:8080/"
        }
      },
      "source": [
        "from keras.applications import VGG16\n",
        "\n",
        "conv_base = VGG16(weights='imagenet',\n",
        "                  include_top=False,\n",
        "                  input_shape=(150, 150, 3))"
      ],
      "execution_count": 3,
      "outputs": [
        {
          "output_type": "stream",
          "text": [
            "Downloading data from https://storage.googleapis.com/tensorflow/keras-applications/vgg16/vgg16_weights_tf_dim_ordering_tf_kernels_notop.h5\n",
            "58892288/58889256 [==============================] - 1s 0us/step\n"
          ],
          "name": "stdout"
        }
      ]
    },
    {
      "cell_type": "markdown",
      "metadata": {
        "id": "P2BsTXv4Uv2f"
      },
      "source": [
        "We passed three arguments to the constructor:\n",
        "\n",
        "* `weights`, to specify which weight checkpoint to initialize the model from\n",
        "* `include_top`, which refers to including or not the densely-connected classifier on top of the network. By default, this \n",
        "densely-connected classifier would correspond to the 1000 classes from ImageNet. Since we intend to use our own densely-connected \n",
        "classifier (with only two classes, cat and dog), we don't need to include it.\n",
        "* `input_shape`, the shape of the image tensors that we will feed to the network. This argument is purely optional: if we don't pass it, \n",
        "then the network will be able to process inputs of any size.\n",
        "\n",
        "Here's the detail of the architecture of the VGG16 convolutional base: it's very similar to the simple convnets that you are already \n",
        "familiar with."
      ]
    },
    {
      "cell_type": "code",
      "metadata": {
        "id": "4wE21a-iUv2f",
        "outputId": "0776383f-edfb-4f37-a35c-888832a9efdc",
        "colab": {
          "base_uri": "https://localhost:8080/"
        }
      },
      "source": [
        "conv_base.summary()"
      ],
      "execution_count": 4,
      "outputs": [
        {
          "output_type": "stream",
          "text": [
            "Model: \"vgg16\"\n",
            "_________________________________________________________________\n",
            "Layer (type)                 Output Shape              Param #   \n",
            "=================================================================\n",
            "input_1 (InputLayer)         [(None, 150, 150, 3)]     0         \n",
            "_________________________________________________________________\n",
            "block1_conv1 (Conv2D)        (None, 150, 150, 64)      1792      \n",
            "_________________________________________________________________\n",
            "block1_conv2 (Conv2D)        (None, 150, 150, 64)      36928     \n",
            "_________________________________________________________________\n",
            "block1_pool (MaxPooling2D)   (None, 75, 75, 64)        0         \n",
            "_________________________________________________________________\n",
            "block2_conv1 (Conv2D)        (None, 75, 75, 128)       73856     \n",
            "_________________________________________________________________\n",
            "block2_conv2 (Conv2D)        (None, 75, 75, 128)       147584    \n",
            "_________________________________________________________________\n",
            "block2_pool (MaxPooling2D)   (None, 37, 37, 128)       0         \n",
            "_________________________________________________________________\n",
            "block3_conv1 (Conv2D)        (None, 37, 37, 256)       295168    \n",
            "_________________________________________________________________\n",
            "block3_conv2 (Conv2D)        (None, 37, 37, 256)       590080    \n",
            "_________________________________________________________________\n",
            "block3_conv3 (Conv2D)        (None, 37, 37, 256)       590080    \n",
            "_________________________________________________________________\n",
            "block3_pool (MaxPooling2D)   (None, 18, 18, 256)       0         \n",
            "_________________________________________________________________\n",
            "block4_conv1 (Conv2D)        (None, 18, 18, 512)       1180160   \n",
            "_________________________________________________________________\n",
            "block4_conv2 (Conv2D)        (None, 18, 18, 512)       2359808   \n",
            "_________________________________________________________________\n",
            "block4_conv3 (Conv2D)        (None, 18, 18, 512)       2359808   \n",
            "_________________________________________________________________\n",
            "block4_pool (MaxPooling2D)   (None, 9, 9, 512)         0         \n",
            "_________________________________________________________________\n",
            "block5_conv1 (Conv2D)        (None, 9, 9, 512)         2359808   \n",
            "_________________________________________________________________\n",
            "block5_conv2 (Conv2D)        (None, 9, 9, 512)         2359808   \n",
            "_________________________________________________________________\n",
            "block5_conv3 (Conv2D)        (None, 9, 9, 512)         2359808   \n",
            "_________________________________________________________________\n",
            "block5_pool (MaxPooling2D)   (None, 4, 4, 512)         0         \n",
            "=================================================================\n",
            "Total params: 14,714,688\n",
            "Trainable params: 14,714,688\n",
            "Non-trainable params: 0\n",
            "_________________________________________________________________\n"
          ],
          "name": "stdout"
        }
      ]
    },
    {
      "cell_type": "markdown",
      "metadata": {
        "id": "yPuRGAmnUv2i"
      },
      "source": [
        "The final feature map has shape `(4, 4, 512)`. That's the feature on top of which we will stick a densely-connected classifier.\n",
        "\n",
        "At this point, there are two ways we could proceed: \n",
        "\n",
        "* Running the convolutional base over our dataset, recording its output to a Numpy array on disk, then using this data as input to a \n",
        "standalone densely-connected classifier similar to those you have seen in the first chapters of this book. This solution is very fast and \n",
        "cheap to run, because it only requires running the convolutional base once for every input image, and the convolutional base is by far the \n",
        "most expensive part of the pipeline. However, for the exact same reason, this technique would not allow us to leverage data augmentation at \n",
        "all.\n",
        "* Extending the model we have (`conv_base`) by adding `Dense` layers on top, and running the whole thing end-to-end on the input data. This \n",
        "allows us to use data augmentation, because every input image is going through the convolutional base every time it is seen by the model. \n",
        "However, for this same reason, this technique is far more expensive than the first one.\n",
        "\n",
        "We will cover both techniques. Let's walk through the code required to set-up the first one: recording the output of `conv_base` on our \n",
        "data and using these outputs as inputs to a new model.\n",
        "\n",
        "We will start by simply running instances of the previously-introduced `ImageDataGenerator` to extract images as Numpy arrays as well as \n",
        "their labels. We will extract features from these images simply by calling the `predict` method of the `conv_base` model."
      ]
    },
    {
      "cell_type": "code",
      "metadata": {
        "id": "W0V0GgZTUv2i",
        "outputId": "9d1f245a-1a52-4733-ddb9-0170805ce281",
        "colab": {
          "base_uri": "https://localhost:8080/"
        }
      },
      "source": [
        "import os\n",
        "import numpy as np\n",
        "from keras.preprocessing.image import ImageDataGenerator\n",
        "\n",
        "#base_dir = u'/data/dss0/design/managed_folders/NOTEBOOKS/iY602g3c/cats and dogs/cats_and_dogs_small'\n",
        "\n",
        "train_dir = '/content/drive/My Drive/cats_vs_dogs/train/'\n",
        "validation_dir = '/content/drive/My Drive/cats_vs_dogs/validation/'\n",
        "test_dir = '/content/drive/My Drive/cats_vs_dogs/test/'\n",
        "\n",
        "datagen = ImageDataGenerator(rescale=1./255)\n",
        "batch_size = 20\n",
        "\n",
        "def extract_features(directory, sample_count):\n",
        "    features = np.zeros(shape=(sample_count, 4, 4, 512))\n",
        "    labels = np.zeros(shape=(sample_count))\n",
        "    generator = datagen.flow_from_directory(\n",
        "        directory,\n",
        "        target_size=(150, 150),\n",
        "        batch_size=batch_size,\n",
        "        class_mode='binary')\n",
        "    i = 0\n",
        "    for inputs_batch, labels_batch in generator:\n",
        "        features_batch = conv_base.predict(inputs_batch)\n",
        "        features[i * batch_size : (i + 1) * batch_size] = features_batch\n",
        "        labels[i * batch_size : (i + 1) * batch_size] = labels_batch\n",
        "        i += 1\n",
        "        if i * batch_size >= sample_count:\n",
        "            # Note that since generators yield data indefinitely in a loop,\n",
        "            # we must `break` after every image has been seen once.\n",
        "            break\n",
        "    return features, labels\n",
        "\n",
        "train_features, train_labels = extract_features(train_dir, 2000)\n",
        "validation_features, validation_labels = extract_features(validation_dir, 1000)\n",
        "test_features, test_labels = extract_features(test_dir, 1000)"
      ],
      "execution_count": 9,
      "outputs": [
        {
          "output_type": "stream",
          "text": [
            "Found 2003 images belonging to 2 classes.\n",
            "Found 1011 images belonging to 2 classes.\n",
            "Found 2023 images belonging to 2 classes.\n"
          ],
          "name": "stdout"
        }
      ]
    },
    {
      "cell_type": "markdown",
      "metadata": {
        "id": "uVG5j6XfUv2l"
      },
      "source": [
        "The extracted features are currently of shape `(samples, 4, 4, 512)`. We will feed them to a densely-connected classifier, so first we must \n",
        "flatten them to `(samples, 8192)`:"
      ]
    },
    {
      "cell_type": "code",
      "metadata": {
        "id": "nyHb3amXUv2l"
      },
      "source": [
        "train_features = np.reshape(train_features, (2000, 4 * 4 * 512))\n",
        "validation_features = np.reshape(validation_features, (1000, 4 * 4 * 512))\n",
        "test_features = np.reshape(test_features, (1000, 4 * 4 * 512))"
      ],
      "execution_count": 10,
      "outputs": []
    },
    {
      "cell_type": "markdown",
      "metadata": {
        "id": "ZZ_TSEhwUv2o"
      },
      "source": [
        "At this point, we can define our densely-connected classifier (note the use of dropout for regularization), and train it on the data and \n",
        "labels that we just recorded:"
      ]
    },
    {
      "cell_type": "code",
      "metadata": {
        "id": "WGbqrhZnUv2o",
        "outputId": "002e8e59-4a49-48d0-c506-c9a7c1197316",
        "colab": {
          "base_uri": "https://localhost:8080/"
        }
      },
      "source": [
        "from keras import models\n",
        "from keras import layers\n",
        "from keras import optimizers\n",
        "\n",
        "model = models.Sequential()\n",
        "model.add(layers.Dense(256, activation='relu', input_dim=4 * 4 * 512))\n",
        "model.add(layers.Dropout(0.5))\n",
        "model.add(layers.Dense(1, activation='sigmoid'))\n",
        "\n",
        "model.compile(optimizer=optimizers.RMSprop(lr=2e-5),\n",
        "              loss='binary_crossentropy',\n",
        "              metrics=['acc'])\n",
        "\n",
        "history = model.fit(train_features, train_labels,\n",
        "                    epochs=10,\n",
        "                    batch_size=20,\n",
        "                    validation_data=(validation_features, validation_labels))"
      ],
      "execution_count": 11,
      "outputs": [
        {
          "output_type": "stream",
          "text": [
            "Epoch 1/10\n",
            "100/100 [==============================] - 0s 4ms/step - loss: 0.5829 - acc: 0.7005 - val_loss: 0.4484 - val_acc: 0.8120\n",
            "Epoch 2/10\n",
            "100/100 [==============================] - 0s 3ms/step - loss: 0.4259 - acc: 0.8125 - val_loss: 0.3780 - val_acc: 0.8390\n",
            "Epoch 3/10\n",
            "100/100 [==============================] - 0s 3ms/step - loss: 0.3628 - acc: 0.8450 - val_loss: 0.3478 - val_acc: 0.8460\n",
            "Epoch 4/10\n",
            "100/100 [==============================] - 0s 3ms/step - loss: 0.3193 - acc: 0.8680 - val_loss: 0.3252 - val_acc: 0.8530\n",
            "Epoch 5/10\n",
            "100/100 [==============================] - 0s 3ms/step - loss: 0.2990 - acc: 0.8810 - val_loss: 0.3154 - val_acc: 0.8530\n",
            "Epoch 6/10\n",
            "100/100 [==============================] - 0s 3ms/step - loss: 0.2616 - acc: 0.8925 - val_loss: 0.3023 - val_acc: 0.8590\n",
            "Epoch 7/10\n",
            "100/100 [==============================] - 0s 3ms/step - loss: 0.2450 - acc: 0.9050 - val_loss: 0.3039 - val_acc: 0.8580\n",
            "Epoch 8/10\n",
            "100/100 [==============================] - 0s 3ms/step - loss: 0.2344 - acc: 0.9170 - val_loss: 0.2891 - val_acc: 0.8740\n",
            "Epoch 9/10\n",
            "100/100 [==============================] - 0s 3ms/step - loss: 0.2170 - acc: 0.9200 - val_loss: 0.2838 - val_acc: 0.8770\n",
            "Epoch 10/10\n",
            "100/100 [==============================] - 0s 3ms/step - loss: 0.2079 - acc: 0.9290 - val_loss: 0.2795 - val_acc: 0.8750\n"
          ],
          "name": "stdout"
        }
      ]
    },
    {
      "cell_type": "markdown",
      "metadata": {
        "id": "Efhhll8NUv2r"
      },
      "source": [
        "Training is very fast, since we only have to deal with two `Dense` layers -- an epoch takes less than one second even on CPU.\n",
        "\n",
        "Let's take a look at the loss and accuracy curves during training:"
      ]
    },
    {
      "cell_type": "code",
      "metadata": {
        "id": "HSy0gYOwUv2s",
        "outputId": "670dccd8-be41-456f-d51e-bef69006f889",
        "colab": {
          "base_uri": "https://localhost:8080/",
          "height": 562
        }
      },
      "source": [
        "%pylab inline\n",
        "import matplotlib.pyplot as plt\n",
        "\n",
        "acc = history.history['acc']\n",
        "val_acc = history.history['val_acc']\n",
        "loss = history.history['loss']\n",
        "val_loss = history.history['val_loss']\n",
        "\n",
        "epochs = range(len(acc))\n",
        "\n",
        "plt.plot(epochs, acc, 'bo', label='Training acc')\n",
        "plt.plot(epochs, val_acc, 'b', label='Validation acc')\n",
        "plt.title('Training and validation accuracy')\n",
        "plt.legend()\n",
        "\n",
        "plt.figure()\n",
        "\n",
        "plt.plot(epochs, loss, 'bo', label='Training loss')\n",
        "plt.plot(epochs, val_loss, 'b', label='Validation loss')\n",
        "plt.title('Training and validation loss')\n",
        "plt.legend()\n",
        "\n",
        "plt.show()"
      ],
      "execution_count": 12,
      "outputs": [
        {
          "output_type": "stream",
          "text": [
            "Populating the interactive namespace from numpy and matplotlib\n"
          ],
          "name": "stdout"
        },
        {
          "output_type": "display_data",
          "data": {
            "image/png": "[encoded data removed]",
            "text/plain": [
              "<Figure size 432x288 with 1 Axes>"
            ]
          },
          "metadata": {
            "tags": [],
            "needs_background": "light"
          }
        },
        {
          "output_type": "display_data",
          "data": {
            "image/png": "[encoded data removed]",
            "text/plain": [
              "<Figure size 432x288 with 1 Axes>"
            ]
          },
          "metadata": {
            "tags": [],
            "needs_background": "light"
          }
        }
      ]
    },
    {
      "cell_type": "markdown",
      "metadata": {
        "id": "5SBkVKzMUv2u"
      },
      "source": [
        "\n",
        "We reach a validation accuracy of about 90%, much better than what we could achieve in the previous section with our small model trained from \n",
        "scratch. However, our plots also indicate that we are overfitting almost from the start -- despite using dropout with a fairly large rate. \n",
        "This is because this technique does not leverage data augmentation, which is essential to preventing overfitting with small image datasets.\n",
        "\n",
        "Now, let's review the second technique we mentioned for doing feature extraction, which is much slower and more expensive, but which allows \n",
        "us to leverage data augmentation during training: extending the `conv_base` model and running it end-to-end on the inputs. Note that this \n",
        "technique is in fact so expensive that you should only attempt it if you have access to a GPU: it is absolutely intractable on CPU. If you \n",
        "cannot run your code on GPU, then the previous technique is the way to go.\n",
        "\n",
        "Because models behave just like layers, you can add a model (like our `conv_base`) to a `Sequential` model just like you would add a layer. \n",
        "So you can do the following:"
      ]
    },
    {
      "cell_type": "code",
      "metadata": {
        "id": "Av6GaCr2Uv2u"
      },
      "source": [
        "from keras import models\n",
        "from keras import layers\n",
        "\n",
        "model = models.Sequential()\n",
        "model.add(conv_base) # cool !\n",
        "model.add(layers.Flatten())\n",
        "model.add(layers.Dense(256, activation='relu'))\n",
        "model.add(layers.Dense(1, activation='sigmoid'))"
      ],
      "execution_count": 13,
      "outputs": []
    },
    {
      "cell_type": "markdown",
      "metadata": {
        "id": "AAZTcS22Uv2x"
      },
      "source": [
        "This is what our model looks like now:"
      ]
    },
    {
      "cell_type": "code",
      "metadata": {
        "id": "SiL8ALLTUv2x",
        "outputId": "62e31927-54b7-49ae-9a94-0a04b01f6fc1",
        "colab": {
          "base_uri": "https://localhost:8080/"
        }
      },
      "source": [
        "model.summary()"
      ],
      "execution_count": 14,
      "outputs": [
        {
          "output_type": "stream",
          "text": [
            "Model: \"sequential_1\"\n",
            "_________________________________________________________________\n",
            "Layer (type)                 Output Shape              Param #   \n",
            "=================================================================\n",
            "vgg16 (Functional)           (None, 4, 4, 512)         14714688  \n",
            "_________________________________________________________________\n",
            "flatten (Flatten)            (None, 8192)              0         \n",
            "_________________________________________________________________\n",
            "dense_2 (Dense)              (None, 256)               2097408   \n",
            "_________________________________________________________________\n",
            "dense_3 (Dense)              (None, 1)                 257       \n",
            "=================================================================\n",
            "Total params: 16,812,353\n",
            "Trainable params: 16,812,353\n",
            "Non-trainable params: 0\n",
            "_________________________________________________________________\n"
          ],
          "name": "stdout"
        }
      ]
    },
    {
      "cell_type": "markdown",
      "metadata": {
        "id": "pt8BM9eeUv21"
      },
      "source": [
        "As you can see, the convolutional base of VGG16 has 14,714,688 parameters, which is very large. The classifier we are adding on top has 2 \n",
        "million parameters.\n",
        "\n",
        "Before we compile and train our model, a very important thing to do is to freeze the convolutional base. \"Freezing\" a layer or set of \n",
        "layers means preventing their weights from getting updated during training. If we don't do this, then the representations that were \n",
        "previously learned by the convolutional base would get modified during training. Since the `Dense` layers on top are randomly initialized, \n",
        "very large weight updates would be propagated through the network, effectively destroying the representations previously learned.\n",
        "\n",
        "In Keras, freezing a network is done by setting its `trainable` attribute to `False`:"
      ]
    },
    {
      "cell_type": "code",
      "metadata": {
        "id": "3ABns5AwUv21",
        "outputId": "c8545814-ca72-42eb-e886-d7362c088068",
        "colab": {
          "base_uri": "https://localhost:8080/"
        }
      },
      "source": [
        "print('This is the number of trainable weights '\n",
        "      'before freezing the conv base:', len(model.trainable_weights))"
      ],
      "execution_count": 15,
      "outputs": [
        {
          "output_type": "stream",
          "text": [
            "This is the number of trainable weights before freezing the conv base: 30\n"
          ],
          "name": "stdout"
        }
      ]
    },
    {
      "cell_type": "markdown",
      "metadata": {
        "id": "wYYvKqPHUv24"
      },
      "source": [
        "## ALL YOU MUST RETAIN HERE IS THE FOLLOWING CELL"
      ]
    },
    {
      "cell_type": "code",
      "metadata": {
        "id": "M9t3gJuyUv24"
      },
      "source": [
        "conv_base.trainable = False"
      ],
      "execution_count": 16,
      "outputs": []
    },
    {
      "cell_type": "code",
      "metadata": {
        "id": "idIqo7ShUv26",
        "outputId": "02508347-a532-4e4c-c0fd-cd7ae2aa8e87",
        "colab": {
          "base_uri": "https://localhost:8080/"
        }
      },
      "source": [
        "print('This is the number of trainable weights '\n",
        "      'after freezing the conv base:', len(model.trainable_weights))"
      ],
      "execution_count": 17,
      "outputs": [
        {
          "output_type": "stream",
          "text": [
            "This is the number of trainable weights after freezing the conv base: 4\n"
          ],
          "name": "stdout"
        }
      ]
    },
    {
      "cell_type": "markdown",
      "metadata": {
        "id": "gbP9W7I0Uv29"
      },
      "source": [
        "With this setup, only the weights from the two `Dense` layers that we added will be trained. That's a total of four weight tensors: two per \n",
        "layer (the main weight matrix and the bias vector). Note that in order for these changes to take effect, we must first compile the model. \n",
        "If you ever modify weight trainability after compilation, you should then re-compile the model, or these changes would be ignored.\n",
        "\n",
        "Now we can start training our model, with the same data augmentation configuration that we used in our previous example:"
      ]
    },
    {
      "cell_type": "code",
      "metadata": {
        "id": "-G84oQYwUv29",
        "outputId": "f5f536b0-9937-4b7b-8606-9b45e389f2e8",
        "colab": {
          "base_uri": "https://localhost:8080/"
        }
      },
      "source": [
        "from keras.preprocessing.image import ImageDataGenerator\n",
        "\n",
        "train_datagen = ImageDataGenerator(\n",
        "      rescale=1./255,\n",
        "      rotation_range=40,\n",
        "      width_shift_range=0.2,\n",
        "      height_shift_range=0.2,\n",
        "      shear_range=0.2,\n",
        "      zoom_range=0.2,\n",
        "      horizontal_flip=True,\n",
        "      fill_mode='nearest')\n",
        "\n",
        "# Note that the validation data should not be augmented!\n",
        "test_datagen = ImageDataGenerator(rescale=1./255)\n",
        "\n",
        "train_generator = train_datagen.flow_from_directory(\n",
        "        # This is the target directory\n",
        "        train_dir,\n",
        "        # All images will be resized to 150x150\n",
        "        target_size=(150, 150),\n",
        "        batch_size=20,\n",
        "        # Since we use binary_crossentropy loss, we need binary labels\n",
        "        class_mode='binary')\n",
        "\n",
        "validation_generator = test_datagen.flow_from_directory(\n",
        "        validation_dir,\n",
        "        target_size=(150, 150),\n",
        "        batch_size=20,\n",
        "        class_mode='binary')\n",
        "\n",
        "model.compile(loss='binary_crossentropy',\n",
        "              optimizer=optimizers.RMSprop(lr=2e-5),\n",
        "              metrics=['acc'])\n",
        "\n",
        "history = model.fit_generator(\n",
        "      train_generator,\n",
        "      steps_per_epoch=100,\n",
        "      epochs=10,\n",
        "      validation_data=validation_generator,\n",
        "      validation_steps=50,\n",
        "      verbose=1)"
      ],
      "execution_count": 18,
      "outputs": [
        {
          "output_type": "stream",
          "text": [
            "Found 2003 images belonging to 2 classes.\n",
            "Found 1011 images belonging to 2 classes.\n",
            "WARNING:tensorflow:From <ipython-input-18-2a102f5d045c>:41: Model.fit_generator (from tensorflow.python.keras.engine.training) is deprecated and will be removed in a future version.\n",
            "Instructions for updating:\n",
            "Please use Model.fit, which supports generators.\n",
            "Epoch 1/10\n",
            "100/100 [==============================] - 27s 267ms/step - loss: 0.5810 - acc: 0.7045 - val_loss: 0.4704 - val_acc: 0.7780\n",
            "Epoch 2/10\n",
            "100/100 [==============================] - 22s 216ms/step - loss: 0.4819 - acc: 0.7786 - val_loss: 0.3795 - val_acc: 0.8390\n",
            "Epoch 3/10\n",
            "100/100 [==============================] - 21s 213ms/step - loss: 0.4278 - acc: 0.8099 - val_loss: 0.3438 - val_acc: 0.8420\n",
            "Epoch 4/10\n",
            "100/100 [==============================] - 22s 215ms/step - loss: 0.3973 - acc: 0.8134 - val_loss: 0.3353 - val_acc: 0.8450\n",
            "Epoch 5/10\n",
            "100/100 [==============================] - 21s 211ms/step - loss: 0.3734 - acc: 0.8482 - val_loss: 0.3155 - val_acc: 0.8560\n",
            "Epoch 6/10\n",
            "100/100 [==============================] - 21s 211ms/step - loss: 0.3629 - acc: 0.8406 - val_loss: 0.3060 - val_acc: 0.8590\n",
            "Epoch 7/10\n",
            "100/100 [==============================] - 21s 208ms/step - loss: 0.3583 - acc: 0.8487 - val_loss: 0.2975 - val_acc: 0.8700\n",
            "Epoch 8/10\n",
            "100/100 [==============================] - 21s 209ms/step - loss: 0.3403 - acc: 0.8595 - val_loss: 0.2913 - val_acc: 0.8740\n",
            "Epoch 9/10\n",
            "100/100 [==============================] - 21s 210ms/step - loss: 0.3399 - acc: 0.8533 - val_loss: 0.2808 - val_acc: 0.8760\n",
            "Epoch 10/10\n",
            "100/100 [==============================] - 21s 209ms/step - loss: 0.3247 - acc: 0.8654 - val_loss: 0.2833 - val_acc: 0.8800\n"
          ],
          "name": "stdout"
        }
      ]
    },
    {
      "cell_type": "code",
      "metadata": {
        "id": "N0Dg-tZaUv2_"
      },
      "source": [
        "model.save('/content/drive/My Drive/EISTI - Cours/DL/cats_and_dogs_small_3.h5') # could be another folder on the flow"
      ],
      "execution_count": 19,
      "outputs": []
    },
    {
      "cell_type": "markdown",
      "metadata": {
        "id": "sZIbCPsxUv3B"
      },
      "source": [
        "Let's plot our results again:"
      ]
    },
    {
      "cell_type": "code",
      "metadata": {
        "id": "wBXvfn9pUv3C",
        "outputId": "a32833a5-2801-4a12-f4b8-2ac2c7f83ee6",
        "colab": {
          "base_uri": "https://localhost:8080/",
          "height": 545
        }
      },
      "source": [
        "acc = history.history['acc']\n",
        "val_acc = history.history['val_acc']\n",
        "loss = history.history['loss']\n",
        "val_loss = history.history['val_loss']\n",
        "\n",
        "epochs = range(len(acc))\n",
        "\n",
        "plt.plot(epochs, acc, 'bo', label='Training acc')\n",
        "plt.plot(epochs, val_acc, 'b', label='Validation acc')\n",
        "plt.title('Training and validation accuracy')\n",
        "plt.legend()\n",
        "\n",
        "plt.figure()\n",
        "\n",
        "plt.plot(epochs, loss, 'bo', label='Training loss')\n",
        "plt.plot(epochs, val_loss, 'b', label='Validation loss')\n",
        "plt.title('Training and validation loss')\n",
        "plt.legend()\n",
        "\n",
        "plt.show()"
      ],
      "execution_count": 20,
      "outputs": [
        {
          "output_type": "display_data",
          "data": {
            "image/png": "[encoded data removed]",
            "text/plain": [
              "<Figure size 432x288 with 1 Axes>"
            ]
          },
          "metadata": {
            "tags": [],
            "needs_background": "light"
          }
        },
        {
          "output_type": "display_data",
          "data": {
            "image/png": "[encoded data removed]",
            "text/plain": [
              "<Figure size 432x288 with 1 Axes>"
            ]
          },
          "metadata": {
            "tags": [],
            "needs_background": "light"
          }
        }
      ]
    },
    {
      "cell_type": "markdown",
      "metadata": {
        "id": "tHmSqgjaUv3E"
      },
      "source": [
        "As you can see, we reach a validation accuracy of about 96%. This is much better than our small convnet trained from scratch."
      ]
    },
    {
      "cell_type": "markdown",
      "metadata": {
        "id": "NB2P7_ZWUv3E"
      },
      "source": [
        "## Fine-tuning\n",
        "\n",
        "Another widely used technique for model reuse, complementary to feature extraction, is _fine-tuning_. \n",
        "Fine-tuning consists in unfreezing a few of the top layers \n",
        "of a frozen model base used for feature extraction, and jointly training both the newly added part of the model (in our case, the \n",
        "fully-connected classifier) and these top layers. This is called \"fine-tuning\" because it slightly adjusts the more abstract \n",
        "representations of the model being reused, in order to make them more relevant for the problem at hand.\n",
        "\n",
        "![fine-tuning VGG16](https://s3.amazonaws.com/book.keras.io/img/ch5/vgg16_fine_tuning.png)"
      ]
    },
    {
      "cell_type": "markdown",
      "metadata": {
        "id": "iHJHDareUv3F"
      },
      "source": [
        "We have stated before that it was necessary to freeze the convolution base of VGG16 in order to be able to train a randomly initialized \n",
        "classifier on top. For the same reason, it is only possible to fine-tune the top layers of the convolutional base once the classifier on \n",
        "top has already been trained. If the classified wasn't already trained, then the error signal propagating through the network during \n",
        "training would be too large, and the representations previously learned by the layers being fine-tuned would be destroyed. Thus the steps \n",
        "for fine-tuning a network are as follow:\n",
        "\n",
        "* 1) Add your custom network on top of an already trained base network.\n",
        "* 2) Freeze the base network.\n",
        "* 3) Train the part you added.\n",
        "* 4) Unfreeze some layers in the base network.\n",
        "* 5) Jointly train both these layers and the part you added.\n",
        "\n",
        "We have already completed the first 3 steps when doing feature extraction. Let's proceed with the 4th step: we will unfreeze our `conv_base`, \n",
        "and then freeze individual layers inside of it.\n",
        "\n",
        "As a reminder, this is what our convolutional base looks like:"
      ]
    },
    {
      "cell_type": "code",
      "metadata": {
        "id": "1v8JGFRFUv3F",
        "outputId": "b42227e7-2600-485a-8c55-c0b80fe30916",
        "colab": {
          "base_uri": "https://localhost:8080/"
        }
      },
      "source": [
        "conv_base.summary()"
      ],
      "execution_count": 21,
      "outputs": [
        {
          "output_type": "stream",
          "text": [
            "Model: \"vgg16\"\n",
            "_________________________________________________________________\n",
            "Layer (type)                 Output Shape              Param #   \n",
            "=================================================================\n",
            "input_1 (InputLayer)         [(None, 150, 150, 3)]     0         \n",
            "_________________________________________________________________\n",
            "block1_conv1 (Conv2D)        (None, 150, 150, 64)      1792      \n",
            "_________________________________________________________________\n",
            "block1_conv2 (Conv2D)        (None, 150, 150, 64)      36928     \n",
            "_________________________________________________________________\n",
            "block1_pool (MaxPooling2D)   (None, 75, 75, 64)        0         \n",
            "_________________________________________________________________\n",
            "block2_conv1 (Conv2D)        (None, 75, 75, 128)       73856     \n",
            "_________________________________________________________________\n",
            "block2_conv2 (Conv2D)        (None, 75, 75, 128)       147584    \n",
            "_________________________________________________________________\n",
            "block2_pool (MaxPooling2D)   (None, 37, 37, 128)       0         \n",
            "_________________________________________________________________\n",
            "block3_conv1 (Conv2D)        (None, 37, 37, 256)       295168    \n",
            "_________________________________________________________________\n",
            "block3_conv2 (Conv2D)        (None, 37, 37, 256)       590080    \n",
            "_________________________________________________________________\n",
            "block3_conv3 (Conv2D)        (None, 37, 37, 256)       590080    \n",
            "_________________________________________________________________\n",
            "block3_pool (MaxPooling2D)   (None, 18, 18, 256)       0         \n",
            "_________________________________________________________________\n",
            "block4_conv1 (Conv2D)        (None, 18, 18, 512)       1180160   \n",
            "_________________________________________________________________\n",
            "block4_conv2 (Conv2D)        (None, 18, 18, 512)       2359808   \n",
            "_________________________________________________________________\n",
            "block4_conv3 (Conv2D)        (None, 18, 18, 512)       2359808   \n",
            "_________________________________________________________________\n",
            "block4_pool (MaxPooling2D)   (None, 9, 9, 512)         0         \n",
            "_________________________________________________________________\n",
            "block5_conv1 (Conv2D)        (None, 9, 9, 512)         2359808   \n",
            "_________________________________________________________________\n",
            "block5_conv2 (Conv2D)        (None, 9, 9, 512)         2359808   \n",
            "_________________________________________________________________\n",
            "block5_conv3 (Conv2D)        (None, 9, 9, 512)         2359808   \n",
            "_________________________________________________________________\n",
            "block5_pool (MaxPooling2D)   (None, 4, 4, 512)         0         \n",
            "=================================================================\n",
            "Total params: 14,714,688\n",
            "Trainable params: 0\n",
            "Non-trainable params: 14,714,688\n",
            "_________________________________________________________________\n"
          ],
          "name": "stdout"
        }
      ]
    },
    {
      "cell_type": "markdown",
      "metadata": {
        "id": "gZDIUbZFUv3I"
      },
      "source": [
        "\n",
        "We will fine-tune the last 3 convolutional layers, which means that all layers up until `block4_pool` should be frozen, and the layers \n",
        "`block5_conv1`, `block5_conv2` and `block5_conv3` should be trainable.\n",
        "\n",
        "Why not fine-tune more layers? Why not fine-tune the entire convolutional base? We could. However, we need to consider that:\n",
        "\n",
        "* Earlier layers in the convolutional base encode more generic, reusable features, while layers higher up encode more specialized features. It is \n",
        "more useful to fine-tune the more specialized features, as these are the ones that need to be repurposed on our new problem. There would \n",
        "be fast-decreasing returns in fine-tuning lower layers.\n",
        "* The more parameters we are training, the more we are at risk of overfitting. The convolutional base has 15M parameters, so it would be \n",
        "risky to attempt to train it on our small dataset.\n",
        "\n",
        "Thus, in our situation, it is a good strategy to only fine-tune the top 2 to 3 layers in the convolutional base.\n",
        "\n",
        "Let's set this up, starting from where we left off in the previous example:"
      ]
    },
    {
      "cell_type": "markdown",
      "metadata": {
        "id": "ANWY-4sQUv3I"
      },
      "source": [
        "## BELOW ANTOHER REMARKABLE CELL !"
      ]
    },
    {
      "cell_type": "code",
      "metadata": {
        "id": "qBTk4bT9Uv3I"
      },
      "source": [
        "conv_base.trainable = True\n",
        "\n",
        "set_trainable = False\n",
        "for layer in conv_base.layers:\n",
        "    if layer.name == 'block5_conv1':\n",
        "        set_trainable = True\n",
        "    if set_trainable:\n",
        "        layer.trainable = True\n",
        "    else:\n",
        "        layer.trainable = False"
      ],
      "execution_count": 22,
      "outputs": []
    },
    {
      "cell_type": "markdown",
      "metadata": {
        "id": "5VLK5izEUv3K"
      },
      "source": [
        "Now we can start fine-tuning our network. We will do this with the RMSprop optimizer, using a very low learning rate. The reason for using \n",
        "a low learning rate is that we want to limit the magnitude of the modifications we make to the representations of the 3 layers that we are \n",
        "fine-tuning. Updates that are too large may harm these representations.\n",
        "\n",
        "Now let's proceed with fine-tuning:"
      ]
    },
    {
      "cell_type": "code",
      "metadata": {
        "id": "CdkUOm90Uv3L",
        "outputId": "32fddd37-8575-4a67-b4e3-736237e01f07",
        "colab": {
          "base_uri": "https://localhost:8080/"
        }
      },
      "source": [
        "model.compile(loss='binary_crossentropy',\n",
        "              optimizer=optimizers.RMSprop(lr=1e-5),\n",
        "              metrics=['acc'])\n",
        "\n",
        "history = model.fit_generator(\n",
        "      train_generator,\n",
        "      steps_per_epoch=100,\n",
        "      epochs=100,\n",
        "      validation_data=validation_generator,\n",
        "      validation_steps=50)"
      ],
      "execution_count": 23,
      "outputs": [
        {
          "output_type": "stream",
          "text": [
            "Epoch 1/100\n",
            "100/100 [==============================] - 22s 219ms/step - loss: 0.3287 - acc: 0.8593 - val_loss: 0.2660 - val_acc: 0.8910\n",
            "Epoch 2/100\n",
            "100/100 [==============================] - 22s 216ms/step - loss: 0.2780 - acc: 0.8790 - val_loss: 0.2373 - val_acc: 0.8870\n",
            "Epoch 3/100\n",
            "100/100 [==============================] - 22s 218ms/step - loss: 0.2632 - acc: 0.8936 - val_loss: 0.2367 - val_acc: 0.8980\n",
            "Epoch 4/100\n",
            "100/100 [==============================] - 21s 210ms/step - loss: 0.2280 - acc: 0.9002 - val_loss: 0.2478 - val_acc: 0.8900\n",
            "Epoch 5/100\n",
            "100/100 [==============================] - 21s 211ms/step - loss: 0.2152 - acc: 0.9112 - val_loss: 0.2102 - val_acc: 0.9050\n",
            "Epoch 6/100\n",
            "100/100 [==============================] - 22s 219ms/step - loss: 0.2041 - acc: 0.9163 - val_loss: 0.2006 - val_acc: 0.9170\n",
            "Epoch 7/100\n",
            "100/100 [==============================] - 22s 217ms/step - loss: 0.2025 - acc: 0.9123 - val_loss: 0.1988 - val_acc: 0.9150\n",
            "Epoch 8/100\n",
            "100/100 [==============================] - 21s 214ms/step - loss: 0.1835 - acc: 0.9269 - val_loss: 0.1981 - val_acc: 0.9170\n",
            "Epoch 9/100\n",
            "100/100 [==============================] - 21s 210ms/step - loss: 0.1783 - acc: 0.9264 - val_loss: 0.1867 - val_acc: 0.9140\n",
            "Epoch 10/100\n",
            "100/100 [==============================] - 22s 222ms/step - loss: 0.1825 - acc: 0.9274 - val_loss: 0.2046 - val_acc: 0.9100\n",
            "Epoch 11/100\n",
            "100/100 [==============================] - 21s 210ms/step - loss: 0.1557 - acc: 0.9334 - val_loss: 0.2166 - val_acc: 0.9160\n",
            "Epoch 12/100\n",
            "100/100 [==============================] - 22s 217ms/step - loss: 0.1444 - acc: 0.9420 - val_loss: 0.2036 - val_acc: 0.9210\n",
            "Epoch 13/100\n",
            "100/100 [==============================] - 21s 209ms/step - loss: 0.1612 - acc: 0.9400 - val_loss: 0.1842 - val_acc: 0.9290\n",
            "Epoch 14/100\n",
            "100/100 [==============================] - 22s 215ms/step - loss: 0.1403 - acc: 0.9415 - val_loss: 0.1818 - val_acc: 0.9260\n",
            "Epoch 15/100\n",
            "100/100 [==============================] - 21s 211ms/step - loss: 0.1186 - acc: 0.9536 - val_loss: 0.1922 - val_acc: 0.9280\n",
            "Epoch 16/100\n",
            "100/100 [==============================] - 22s 217ms/step - loss: 0.1211 - acc: 0.9551 - val_loss: 0.1919 - val_acc: 0.9270\n",
            "Epoch 17/100\n",
            "100/100 [==============================] - 22s 216ms/step - loss: 0.1171 - acc: 0.9571 - val_loss: 0.2295 - val_acc: 0.9170\n",
            "Epoch 18/100\n",
            "100/100 [==============================] - 21s 212ms/step - loss: 0.1220 - acc: 0.9486 - val_loss: 0.1853 - val_acc: 0.9270\n",
            "Epoch 19/100\n",
            "100/100 [==============================] - 21s 212ms/step - loss: 0.1113 - acc: 0.9586 - val_loss: 0.1792 - val_acc: 0.9340\n",
            "Epoch 20/100\n",
            "100/100 [==============================] - 21s 212ms/step - loss: 0.1101 - acc: 0.9622 - val_loss: 0.2306 - val_acc: 0.9200\n",
            "Epoch 21/100\n",
            "100/100 [==============================] - 21s 213ms/step - loss: 0.1142 - acc: 0.9566 - val_loss: 0.2158 - val_acc: 0.9220\n",
            "Epoch 22/100\n",
            "100/100 [==============================] - 21s 211ms/step - loss: 0.1089 - acc: 0.9541 - val_loss: 0.1787 - val_acc: 0.9360\n",
            "Epoch 23/100\n",
            "100/100 [==============================] - 21s 210ms/step - loss: 0.0900 - acc: 0.9692 - val_loss: 0.2298 - val_acc: 0.9220\n",
            "Epoch 24/100\n",
            "100/100 [==============================] - 21s 215ms/step - loss: 0.0925 - acc: 0.9687 - val_loss: 0.2448 - val_acc: 0.9100\n",
            "Epoch 25/100\n",
            "100/100 [==============================] - 21s 213ms/step - loss: 0.0788 - acc: 0.9672 - val_loss: 0.2342 - val_acc: 0.9270\n",
            "Epoch 26/100\n",
            "100/100 [==============================] - 21s 209ms/step - loss: 0.0798 - acc: 0.9672 - val_loss: 0.2054 - val_acc: 0.9330\n",
            "Epoch 27/100\n",
            "100/100 [==============================] - 21s 208ms/step - loss: 0.0779 - acc: 0.9687 - val_loss: 0.2687 - val_acc: 0.9210\n",
            "Epoch 28/100\n",
            "100/100 [==============================] - 21s 214ms/step - loss: 0.0887 - acc: 0.9677 - val_loss: 0.2102 - val_acc: 0.9260\n",
            "Epoch 29/100\n",
            "100/100 [==============================] - 22s 215ms/step - loss: 0.0675 - acc: 0.9738 - val_loss: 0.2111 - val_acc: 0.9280\n",
            "Epoch 30/100\n",
            "100/100 [==============================] - 21s 209ms/step - loss: 0.0812 - acc: 0.9662 - val_loss: 0.1993 - val_acc: 0.9350\n",
            "Epoch 31/100\n",
            "100/100 [==============================] - 22s 217ms/step - loss: 0.0642 - acc: 0.9788 - val_loss: 0.1927 - val_acc: 0.9400\n",
            "Epoch 32/100\n",
            "100/100 [==============================] - 21s 209ms/step - loss: 0.0716 - acc: 0.9750 - val_loss: 0.2007 - val_acc: 0.9340\n",
            "Epoch 33/100\n",
            "100/100 [==============================] - 21s 209ms/step - loss: 0.0708 - acc: 0.9753 - val_loss: 0.1971 - val_acc: 0.9390\n",
            "Epoch 34/100\n",
            "100/100 [==============================] - 21s 206ms/step - loss: 0.0623 - acc: 0.9763 - val_loss: 0.2814 - val_acc: 0.9170\n",
            "Epoch 35/100\n",
            "100/100 [==============================] - 21s 205ms/step - loss: 0.0662 - acc: 0.9748 - val_loss: 0.2836 - val_acc: 0.9210\n",
            "Epoch 36/100\n",
            "100/100 [==============================] - 21s 209ms/step - loss: 0.0542 - acc: 0.9803 - val_loss: 0.2064 - val_acc: 0.9400\n",
            "Epoch 37/100\n",
            "100/100 [==============================] - 21s 206ms/step - loss: 0.0711 - acc: 0.9763 - val_loss: 0.2103 - val_acc: 0.9420\n",
            "Epoch 38/100\n",
            "100/100 [==============================] - 21s 206ms/step - loss: 0.0602 - acc: 0.9773 - val_loss: 0.2153 - val_acc: 0.9360\n",
            "Epoch 39/100\n",
            "100/100 [==============================] - 21s 210ms/step - loss: 0.0598 - acc: 0.9753 - val_loss: 0.2083 - val_acc: 0.9350\n",
            "Epoch 40/100\n",
            "100/100 [==============================] - 21s 206ms/step - loss: 0.0555 - acc: 0.9823 - val_loss: 0.1891 - val_acc: 0.9410\n",
            "Epoch 41/100\n",
            "100/100 [==============================] - 21s 207ms/step - loss: 0.0506 - acc: 0.9808 - val_loss: 0.3302 - val_acc: 0.9180\n",
            "Epoch 42/100\n",
            "100/100 [==============================] - 20s 202ms/step - loss: 0.0479 - acc: 0.9844 - val_loss: 0.2134 - val_acc: 0.9380\n",
            "Epoch 43/100\n",
            "100/100 [==============================] - 21s 209ms/step - loss: 0.0556 - acc: 0.9773 - val_loss: 0.2209 - val_acc: 0.9390\n",
            "Epoch 44/100\n",
            "100/100 [==============================] - 20s 204ms/step - loss: 0.0531 - acc: 0.9793 - val_loss: 0.2336 - val_acc: 0.9340\n",
            "Epoch 45/100\n",
            "100/100 [==============================] - 21s 208ms/step - loss: 0.0456 - acc: 0.9798 - val_loss: 0.2190 - val_acc: 0.9410\n",
            "Epoch 46/100\n",
            "100/100 [==============================] - 21s 210ms/step - loss: 0.0496 - acc: 0.9823 - val_loss: 0.2276 - val_acc: 0.9390\n",
            "Epoch 47/100\n",
            "100/100 [==============================] - 21s 208ms/step - loss: 0.0364 - acc: 0.9854 - val_loss: 0.2145 - val_acc: 0.9440\n",
            "Epoch 48/100\n",
            "100/100 [==============================] - 21s 206ms/step - loss: 0.0383 - acc: 0.9854 - val_loss: 0.2425 - val_acc: 0.9370\n",
            "Epoch 49/100\n",
            "100/100 [==============================] - 20s 203ms/step - loss: 0.0347 - acc: 0.9849 - val_loss: 0.2916 - val_acc: 0.9380\n",
            "Epoch 50/100\n",
            "100/100 [==============================] - 21s 206ms/step - loss: 0.0404 - acc: 0.9844 - val_loss: 0.2646 - val_acc: 0.9410\n",
            "Epoch 51/100\n",
            "100/100 [==============================] - 20s 202ms/step - loss: 0.0444 - acc: 0.9864 - val_loss: 0.2173 - val_acc: 0.9420\n",
            "Epoch 52/100\n",
            "100/100 [==============================] - 21s 209ms/step - loss: 0.0423 - acc: 0.9839 - val_loss: 0.2961 - val_acc: 0.9280\n",
            "Epoch 53/100\n",
            "100/100 [==============================] - 20s 200ms/step - loss: 0.0383 - acc: 0.9854 - val_loss: 0.2448 - val_acc: 0.9420\n",
            "Epoch 54/100\n",
            "100/100 [==============================] - 21s 206ms/step - loss: 0.0342 - acc: 0.9874 - val_loss: 0.2320 - val_acc: 0.9440\n",
            "Epoch 55/100\n",
            "100/100 [==============================] - 21s 206ms/step - loss: 0.0401 - acc: 0.9839 - val_loss: 0.2845 - val_acc: 0.9360\n",
            "Epoch 56/100\n",
            "100/100 [==============================] - 20s 201ms/step - loss: 0.0439 - acc: 0.9818 - val_loss: 0.2578 - val_acc: 0.9360\n",
            "Epoch 57/100\n",
            "100/100 [==============================] - 21s 207ms/step - loss: 0.0342 - acc: 0.9889 - val_loss: 0.3353 - val_acc: 0.9250\n",
            "Epoch 58/100\n",
            "100/100 [==============================] - 20s 201ms/step - loss: 0.0467 - acc: 0.9798 - val_loss: 0.2375 - val_acc: 0.9380\n",
            "Epoch 59/100\n",
            "100/100 [==============================] - 21s 206ms/step - loss: 0.0331 - acc: 0.9844 - val_loss: 0.2188 - val_acc: 0.9400\n",
            "Epoch 60/100\n",
            "100/100 [==============================] - 20s 201ms/step - loss: 0.0364 - acc: 0.9864 - val_loss: 0.2313 - val_acc: 0.9430\n",
            "Epoch 61/100\n",
            "100/100 [==============================] - 21s 211ms/step - loss: 0.0235 - acc: 0.9919 - val_loss: 0.2887 - val_acc: 0.9320\n",
            "Epoch 62/100\n",
            "100/100 [==============================] - 20s 201ms/step - loss: 0.0466 - acc: 0.9834 - val_loss: 0.2521 - val_acc: 0.9410\n",
            "Epoch 63/100\n",
            "100/100 [==============================] - 20s 205ms/step - loss: 0.0267 - acc: 0.9909 - val_loss: 0.2179 - val_acc: 0.9460\n",
            "Epoch 64/100\n",
            "100/100 [==============================] - 20s 202ms/step - loss: 0.0341 - acc: 0.9859 - val_loss: 0.3367 - val_acc: 0.9270\n",
            "Epoch 65/100\n",
            "100/100 [==============================] - 20s 203ms/step - loss: 0.0299 - acc: 0.9889 - val_loss: 0.2314 - val_acc: 0.9440\n",
            "Epoch 66/100\n",
            "100/100 [==============================] - 20s 204ms/step - loss: 0.0267 - acc: 0.9910 - val_loss: 0.2222 - val_acc: 0.9440\n",
            "Epoch 67/100\n",
            "100/100 [==============================] - 20s 201ms/step - loss: 0.0252 - acc: 0.9909 - val_loss: 0.2295 - val_acc: 0.9470\n",
            "Epoch 68/100\n",
            "100/100 [==============================] - 20s 201ms/step - loss: 0.0305 - acc: 0.9874 - val_loss: 0.2769 - val_acc: 0.9420\n",
            "Epoch 69/100\n",
            "100/100 [==============================] - 20s 203ms/step - loss: 0.0222 - acc: 0.9904 - val_loss: 0.2455 - val_acc: 0.9430\n",
            "Epoch 70/100\n",
            "100/100 [==============================] - 20s 200ms/step - loss: 0.0371 - acc: 0.9849 - val_loss: 0.2630 - val_acc: 0.9490\n",
            "Epoch 71/100\n",
            "100/100 [==============================] - 21s 206ms/step - loss: 0.0248 - acc: 0.9904 - val_loss: 0.2478 - val_acc: 0.9430\n",
            "Epoch 72/100\n",
            "100/100 [==============================] - 20s 202ms/step - loss: 0.0333 - acc: 0.9869 - val_loss: 0.2646 - val_acc: 0.9370\n",
            "Epoch 73/100\n",
            "100/100 [==============================] - 20s 203ms/step - loss: 0.0282 - acc: 0.9879 - val_loss: 0.2224 - val_acc: 0.9460\n",
            "Epoch 74/100\n",
            "100/100 [==============================] - 21s 206ms/step - loss: 0.0273 - acc: 0.9919 - val_loss: 0.2357 - val_acc: 0.9390\n",
            "Epoch 75/100\n",
            "100/100 [==============================] - 20s 201ms/step - loss: 0.0255 - acc: 0.9894 - val_loss: 0.3705 - val_acc: 0.9280\n",
            "Epoch 76/100\n",
            "100/100 [==============================] - 21s 207ms/step - loss: 0.0310 - acc: 0.9889 - val_loss: 0.2502 - val_acc: 0.9370\n",
            "Epoch 77/100\n",
            "100/100 [==============================] - 20s 200ms/step - loss: 0.0385 - acc: 0.9854 - val_loss: 0.3106 - val_acc: 0.9370\n",
            "Epoch 78/100\n",
            "100/100 [==============================] - 20s 201ms/step - loss: 0.0313 - acc: 0.9889 - val_loss: 0.2643 - val_acc: 0.9400\n",
            "Epoch 79/100\n",
            "100/100 [==============================] - 20s 205ms/step - loss: 0.0328 - acc: 0.9889 - val_loss: 0.2541 - val_acc: 0.9410\n",
            "Epoch 80/100\n",
            "100/100 [==============================] - 20s 200ms/step - loss: 0.0252 - acc: 0.9899 - val_loss: 0.1991 - val_acc: 0.9510\n",
            "Epoch 81/100\n",
            "100/100 [==============================] - 20s 199ms/step - loss: 0.0169 - acc: 0.9955 - val_loss: 0.3870 - val_acc: 0.9260\n",
            "Epoch 82/100\n",
            "100/100 [==============================] - 20s 203ms/step - loss: 0.0270 - acc: 0.9909 - val_loss: 0.2667 - val_acc: 0.9380\n",
            "Epoch 83/100\n",
            "100/100 [==============================] - 20s 200ms/step - loss: 0.0265 - acc: 0.9914 - val_loss: 0.2417 - val_acc: 0.9440\n",
            "Epoch 84/100\n",
            "100/100 [==============================] - 20s 199ms/step - loss: 0.0217 - acc: 0.9909 - val_loss: 0.3037 - val_acc: 0.9330\n",
            "Epoch 85/100\n",
            "100/100 [==============================] - 20s 202ms/step - loss: 0.0179 - acc: 0.9934 - val_loss: 0.2974 - val_acc: 0.9410\n",
            "Epoch 86/100\n",
            "100/100 [==============================] - 20s 200ms/step - loss: 0.0289 - acc: 0.9904 - val_loss: 0.2848 - val_acc: 0.9480\n",
            "Epoch 87/100\n",
            "100/100 [==============================] - 20s 203ms/step - loss: 0.0198 - acc: 0.9924 - val_loss: 0.2692 - val_acc: 0.9460\n",
            "Epoch 88/100\n",
            "100/100 [==============================] - 20s 201ms/step - loss: 0.0250 - acc: 0.9909 - val_loss: 0.2465 - val_acc: 0.9470\n",
            "Epoch 89/100\n",
            "100/100 [==============================] - 20s 199ms/step - loss: 0.0339 - acc: 0.9879 - val_loss: 0.2986 - val_acc: 0.9370\n",
            "Epoch 90/100\n",
            "100/100 [==============================] - 20s 198ms/step - loss: 0.0218 - acc: 0.9919 - val_loss: 0.2814 - val_acc: 0.9430\n",
            "Epoch 91/100\n",
            "100/100 [==============================] - 20s 200ms/step - loss: 0.0189 - acc: 0.9929 - val_loss: 0.2650 - val_acc: 0.9410\n",
            "Epoch 92/100\n",
            "100/100 [==============================] - 20s 203ms/step - loss: 0.0227 - acc: 0.9904 - val_loss: 0.3019 - val_acc: 0.9430\n",
            "Epoch 93/100\n",
            "100/100 [==============================] - 20s 201ms/step - loss: 0.0217 - acc: 0.9904 - val_loss: 0.3212 - val_acc: 0.9410\n",
            "Epoch 94/100\n",
            "100/100 [==============================] - 20s 198ms/step - loss: 0.0141 - acc: 0.9955 - val_loss: 0.3066 - val_acc: 0.9390\n",
            "Epoch 95/100\n",
            "100/100 [==============================] - 20s 200ms/step - loss: 0.0219 - acc: 0.9914 - val_loss: 0.2751 - val_acc: 0.9410\n",
            "Epoch 96/100\n",
            "100/100 [==============================] - 20s 198ms/step - loss: 0.0217 - acc: 0.9934 - val_loss: 0.2830 - val_acc: 0.9440\n",
            "Epoch 97/100\n",
            "100/100 [==============================] - 20s 198ms/step - loss: 0.0238 - acc: 0.9929 - val_loss: 0.2699 - val_acc: 0.9450\n",
            "Epoch 98/100\n",
            "100/100 [==============================] - 20s 201ms/step - loss: 0.0178 - acc: 0.9924 - val_loss: 0.3868 - val_acc: 0.9300\n",
            "Epoch 99/100\n",
            "100/100 [==============================] - 20s 200ms/step - loss: 0.0194 - acc: 0.9945 - val_loss: 0.2728 - val_acc: 0.9470\n",
            "Epoch 100/100\n",
            "100/100 [==============================] - 20s 198ms/step - loss: 0.0133 - acc: 0.9955 - val_loss: 0.3433 - val_acc: 0.9400\n"
          ],
          "name": "stdout"
        }
      ]
    },
    {
      "cell_type": "code",
      "metadata": {
        "id": "y4sHG_CaUv3N"
      },
      "source": [
        "model.save('/content/drive/My Drive/EISTI - Cours/DL/cats_and_dogs_small_4.h5')"
      ],
      "execution_count": 24,
      "outputs": []
    },
    {
      "cell_type": "markdown",
      "metadata": {
        "id": "2lpOpE9YUv3P"
      },
      "source": [
        "Let's plot our results using the same plotting code as before:"
      ]
    },
    {
      "cell_type": "code",
      "metadata": {
        "id": "Zlhf4KlRUv3P",
        "outputId": "d2563ac2-3a8c-4ff0-f857-3995325991d9",
        "colab": {
          "base_uri": "https://localhost:8080/",
          "height": 545
        }
      },
      "source": [
        "acc = history.history['acc']\n",
        "val_acc = history.history['val_acc']\n",
        "loss = history.history['loss']\n",
        "val_loss = history.history['val_loss']\n",
        "\n",
        "epochs = range(len(acc))\n",
        "\n",
        "plt.plot(epochs, acc, 'bo', label='Training acc')\n",
        "plt.plot(epochs, val_acc, 'b', label='Validation acc')\n",
        "plt.title('Training and validation accuracy')\n",
        "plt.legend()\n",
        "\n",
        "plt.figure()\n",
        "\n",
        "plt.plot(epochs, loss, 'bo', label='Training loss')\n",
        "plt.plot(epochs, val_loss, 'b', label='Validation loss')\n",
        "plt.title('Training and validation loss')\n",
        "plt.legend()\n",
        "\n",
        "plt.show()"
      ],
      "execution_count": 25,
      "outputs": [
        {
          "output_type": "display_data",
          "data": {
            "image/png": "[encoded data removed]",
            "text/plain": [
              "<Figure size 432x288 with 1 Axes>"
            ]
          },
          "metadata": {
            "tags": [],
            "needs_background": "light"
          }
        },
        {
          "output_type": "display_data",
          "data": {
            "image/png": "[encoded data removed]",
            "text/plain": [
              "<Figure size 432x288 with 1 Axes>"
            ]
          },
          "metadata": {
            "tags": [],
            "needs_background": "light"
          }
        }
      ]
    },
    {
      "cell_type": "markdown",
      "metadata": {
        "id": "T1Z1xZ3kUv3R"
      },
      "source": [
        "\n",
        "These curves look very noisy. To make them more readable, we can smooth them by replacing every loss and accuracy with exponential moving \n",
        "averages of these quantities. Here's a trivial utility function to do this:"
      ]
    },
    {
      "cell_type": "code",
      "metadata": {
        "id": "uztnXdrvUv3R",
        "outputId": "b39aa814-ed47-4ab0-c6c3-8888932eb74a",
        "colab": {
          "base_uri": "https://localhost:8080/",
          "height": 545
        }
      },
      "source": [
        "def smooth_curve(points, factor=0.8):\n",
        "  smoothed_points = []\n",
        "  for point in points:\n",
        "    if smoothed_points:\n",
        "      previous = smoothed_points[-1]\n",
        "      smoothed_points.append(previous * factor + point * (1 - factor))\n",
        "    else:\n",
        "      smoothed_points.append(point)\n",
        "  return smoothed_points\n",
        "\n",
        "plt.plot(epochs,\n",
        "         smooth_curve(acc), 'bo', label='Smoothed training acc')\n",
        "plt.plot(epochs,\n",
        "         smooth_curve(val_acc), 'b', label='Smoothed validation acc')\n",
        "plt.title('Training and validation accuracy')\n",
        "plt.legend()\n",
        "\n",
        "plt.figure()\n",
        "\n",
        "plt.plot(epochs,\n",
        "         smooth_curve(loss), 'bo', label='Smoothed training loss')\n",
        "plt.plot(epochs,\n",
        "         smooth_curve(val_loss), 'b', label='Smoothed validation loss')\n",
        "plt.title('Training and validation loss')\n",
        "plt.legend()\n",
        "\n",
        "plt.show()"
      ],
      "execution_count": 26,
      "outputs": [
        {
          "output_type": "display_data",
          "data": {
            "image/png": "[encoded data removed]",
            "text/plain": [
              "<Figure size 432x288 with 1 Axes>"
            ]
          },
          "metadata": {
            "tags": [],
            "needs_background": "light"
          }
        },
        {
          "output_type": "display_data",
          "data": {
            "image/png": "[encoded data removed]",
            "text/plain": [
              "<Figure size 432x288 with 1 Axes>"
            ]
          },
          "metadata": {
            "tags": [],
            "needs_background": "light"
          }
        }
      ]
    },
    {
      "cell_type": "markdown",
      "metadata": {
        "id": "_-c579jpUv3U"
      },
      "source": [
        "\n",
        "These curves look much cleaner and more stable. We are seeing a nice 1% absolute improvement.\n",
        "\n",
        "Note that the loss curve does not show any real improvement (in fact, it is deteriorating). You may wonder, how could accuracy improve if the \n",
        "loss isn't decreasing? The answer is simple: what we display is an average of pointwise loss values, but what actually matters for accuracy \n",
        "is the distribution of the loss values, not their average, since accuracy is the result of a binary thresholding of the class probability \n",
        "predicted by the model. The model may still be improving even if this isn't reflected in the average loss.\n",
        "\n",
        "We can now finally evaluate this model on the test data:"
      ]
    },
    {
      "cell_type": "code",
      "metadata": {
        "id": "vVnu7zFFUv3U",
        "outputId": "a20f41ce-18a6-4dd0-e812-dcb2c10451bf",
        "colab": {
          "base_uri": "https://localhost:8080/"
        }
      },
      "source": [
        "test_generator = test_datagen.flow_from_directory(\n",
        "        test_dir,\n",
        "        target_size=(150, 150),\n",
        "        batch_size=20,\n",
        "        class_mode='binary')\n",
        "\n",
        "test_loss, test_acc = model.evaluate_generator(test_generator, steps=50)\n",
        "print('test acc:', test_acc)"
      ],
      "execution_count": 27,
      "outputs": [
        {
          "output_type": "stream",
          "text": [
            "Found 2023 images belonging to 2 classes.\n",
            "WARNING:tensorflow:From <ipython-input-27-19f8443b6c42>:7: Model.evaluate_generator (from tensorflow.python.keras.engine.training) is deprecated and will be removed in a future version.\n",
            "Instructions for updating:\n",
            "Please use Model.evaluate, which supports generators.\n",
            "test acc: 0.9300000071525574\n"
          ],
          "name": "stdout"
        }
      ]
    },
    {
      "cell_type": "markdown",
      "metadata": {
        "id": "c5lDbKDYUv3X"
      },
      "source": [
        "\n",
        "Here we get a test accuracy of 97%. In the original Kaggle competition around this dataset, this would have been one of the top results. \n",
        "However, using modern deep learning techniques, we managed to reach this result using only a very small fraction of the training data \n",
        "available (about 10%). There is a huge difference between being able to train on 20,000 samples compared to 2,000 samples!"
      ]
    },
    {
      "cell_type": "markdown",
      "metadata": {
        "id": "3CDlJUQPUv3X"
      },
      "source": [
        "## Take-aways: using convnets with small datasets\n",
        "\n",
        "Here's what you should take away from the exercises of these past two sections:\n",
        "\n",
        "* Convnets are the best type of machine learning models for computer vision tasks. It is possible to train one from scratch even on a very \n",
        "small dataset, with decent results.\n",
        "* On a small dataset, overfitting will be the main issue. Data augmentation is a powerful way to fight overfitting when working with image \n",
        "data.\n",
        "* It is easy to reuse an existing convnet on a new dataset, via feature extraction. This is a very valuable technique for working with \n",
        "small image datasets.\n",
        "* As a complement to feature extraction, one may use fine-tuning, which adapts to a new problem some of the representations previously \n",
        "learned by an existing model. This pushes performance a bit further.\n",
        "\n",
        "Now you have a solid set of tools for dealing with image classification problems, in particular with small datasets."
      ]
    }
  ]
}